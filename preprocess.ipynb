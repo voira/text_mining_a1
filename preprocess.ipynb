import numpy as np
import pandas as pd
from scipy import sparse as spfrom sklearn.feature_extraction.text import CountVectorizer
from sklearn.feature_extraction.text import TfidfTransformerfrom sklearn.pipeline import Pipeline
from sklearn.preprocessing import LabelEncoderfrom sklearn.feature_selection import chi2
from sklearn.feature_selection import SelectKBest
